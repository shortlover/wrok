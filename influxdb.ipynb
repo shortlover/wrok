{
 "cells": [
  {
   "cell_type": "markdown",
   "id": "9fc9ec4a-6b43-42b7-963f-36162a34e006",
   "metadata": {},
   "source": [
    "## influxdb "
   ]
  },
  {
   "cell_type": "code",
   "execution_count": 1,
   "id": "9e221e11-bda8-49a6-bfba-6731c24eb45d",
   "metadata": {},
   "outputs": [
    {
     "name": "stdout",
     "output_type": "stream",
     "text": [
      "Collecting influxdb-client\n",
      "  Downloading influxdb_client-1.39.0-py3-none-any.whl.metadata (63 kB)\n",
      "\u001b[2K     \u001b[90m━━━━━━━━━━━━━━━━━━━━━━━━━━━━━━━━━━━━━━━━\u001b[0m \u001b[32m63.9/63.9 kB\u001b[0m \u001b[31m5.2 MB/s\u001b[0m eta \u001b[36m0:00:00\u001b[0m\n",
      "\u001b[?25hCollecting reactivex>=4.0.4 (from influxdb-client)\n",
      "  Downloading reactivex-4.0.4-py3-none-any.whl (217 kB)\n",
      "\u001b[2K     \u001b[90m━━━━━━━━━━━━━━━━━━━━━━━━━━━━━━━━━━━━━━\u001b[0m \u001b[32m217.8/217.8 kB\u001b[0m \u001b[31m18.7 MB/s\u001b[0m eta \u001b[36m0:00:00\u001b[0m\n",
      "\u001b[?25hRequirement already satisfied: certifi>=14.05.14 in /opt/conda/lib/python3.11/site-packages (from influxdb-client) (2023.7.22)\n",
      "Requirement already satisfied: python-dateutil>=2.5.3 in /opt/conda/lib/python3.11/site-packages (from influxdb-client) (2.8.2)\n",
      "Requirement already satisfied: setuptools>=21.0.0 in /opt/conda/lib/python3.11/site-packages (from influxdb-client) (68.2.2)\n",
      "Requirement already satisfied: urllib3>=1.26.0 in /opt/conda/lib/python3.11/site-packages (from influxdb-client) (2.0.7)\n",
      "Requirement already satisfied: six>=1.5 in /opt/conda/lib/python3.11/site-packages (from python-dateutil>=2.5.3->influxdb-client) (1.16.0)\n",
      "Requirement already satisfied: typing-extensions<5.0.0,>=4.1.1 in /opt/conda/lib/python3.11/site-packages (from reactivex>=4.0.4->influxdb-client) (4.8.0)\n",
      "Downloading influxdb_client-1.39.0-py3-none-any.whl (743 kB)\n",
      "\u001b[2K   \u001b[90m━━━━━━━━━━━━━━━━━━━━━━━━━━━━━━━━━━━━━━━━\u001b[0m \u001b[32m744.0/744.0 kB\u001b[0m \u001b[31m39.3 MB/s\u001b[0m eta \u001b[36m0:00:00\u001b[0m\n",
      "\u001b[?25hInstalling collected packages: reactivex, influxdb-client\n",
      "Successfully installed influxdb-client-1.39.0 reactivex-4.0.4\n"
     ]
    }
   ],
   "source": [
    "#install pip\n",
    "#!pip install influxdb-client\n",
    "#!pip3 install influxdb-client\n",
    "#!pip install influxdb \n",
    "#!pip install TA-Lib\n",
    "!pip install influxdb-client"
   ]
  },
  {
   "cell_type": "code",
   "execution_count": 11,
   "id": "f517484e-c906-4e8b-9626-222bf575f29f",
   "metadata": {},
   "outputs": [
    {
     "ename": "SyntaxError",
     "evalue": "invalid syntax (3057935121.py, line 12)",
     "output_type": "error",
     "traceback": [
      "\u001b[0;36m  Cell \u001b[0;32mIn[11], line 12\u001b[0;36m\u001b[0m\n\u001b[0;31m    import pandas as pd\u001b[0m\n\u001b[0m    ^\u001b[0m\n\u001b[0;31mSyntaxError\u001b[0m\u001b[0;31m:\u001b[0m invalid syntax\n"
     ]
    }
   ],
   "source": [
    "from datetime import datetime\n",
    "from influxdb_client import InfluxDBClient, Point, WritePrecision\n",
    "from influxdb_client.client.write_api import SYNCHRONOUS\n",
    "\n",
    "# You can generate an API token from the \"API Tokens Tab\" in the UI\n",
    "token = \"880e676a0f903c9a00820af91e2d1da398c7751286da2cb7f196c4e4f3995fdf\"\n",
    "org = \"admin\"\n",
    "bucket = \"stock\"\n",
    "\n",
    "with InfluxDBClient(url=\"192.168.31.89:8086\", token=token, org=org) as client: (\n",
    "    # your code here\n",
    "import pandas as pd\n",
    "import yfinance as yf\n",
    "import numpy as np\n",
    "import matplotlib.pyplot as plt\n",
    "\n",
    "# Download historical data as pandas DataFrame\n",
    "stocks = yf.download('^GSPC', start='1957-01-01', end='2024-01-01', interval = \"1mo\")\n",
    "bonds = yf.download('^TNX', start='1957-01-01', end='2024-01-01', interval = \"1mo\")\n",
    "\n",
    "# Print the head of the returns\n",
    "print(\"bonds:\")\n",
    "print(bonds.head())\n",
    "\n",
    "\n",
    "# Calculate monthly returns for both stocks and bonds\n",
    "stocks_returns = stocks['Close'].pct_change().dropna()\n",
    "bonds_returns = bonds['Close'].pct_change().dropna()\n",
    ")"
   ]
  },
  {
   "cell_type": "code",
   "execution_count": 1,
   "id": "c9508653-da72-4966-bc1b-755f797d05bf",
   "metadata": {},
   "outputs": [],
   "source": [
    "import influxdb_client, os, time\n",
    "from influxdb_client import InfluxDBClient, Point, WritePrecision\n",
    "from influxdb_client.client.write_api import SYNCHRONOUS"
   ]
  },
  {
   "cell_type": "code",
   "execution_count": 11,
   "id": "d1f71c04-e5d2-46c9-98ab-671ae87320cd",
   "metadata": {},
   "outputs": [
    {
     "name": "stdout",
     "output_type": "stream",
     "text": [
      "880e676a0f903c9a00820af91e2d1da398c7751286da2cb7f196c4e4f3995fdf\n"
     ]
    }
   ],
   "source": [
    "import influxdb_client, os, time\n",
    "from influxdb_client import InfluxDBClient, Point, WritePrecision\n",
    "from influxdb_client.client.write_api import SYNCHRONOUS\n",
    "INFLUXDB_TOKEN = \"880e676a0f903c9a00820af91e2d1da398c7751286da2cb7f196c4e4f3995fdf\"\n",
    "token = os.environ.get(\"INFLUXDB_TOKEN\")\n",
    "token = \"880e676a0f903c9a00820af91e2d1da398c7751286da2cb7f196c4e4f3995fdf\"\n",
    "org = \"admin\"\n",
    "url = \"192.168.31.89:8086\"\n",
    "print(token)\n",
    "client = influxdb_client.InfluxDBClient(url=url, token=token, org=org)"
   ]
  },
  {
   "cell_type": "code",
   "execution_count": 16,
   "id": "2097f5d4-5b50-4a49-a41f-5ead29d78f73",
   "metadata": {},
   "outputs": [
    {
     "name": "stdout",
     "output_type": "stream",
     "text": [
      "[*********************100%%**********************]  1 of 1 completed\n"
     ]
    }
   ],
   "source": [
    "data = yf.download(\"AAPL\", start=start_date, end=end_date)\n",
    "bucket=\"test3\"\n",
    "write_api = client.write_api(write_options=SYNCHRONOUS)\n",
    "for index, row in data.iterrows():\n",
    "    point = Point(\"stock_price\") \\\n",
    "        .tag(\"symbol\", \"AAPL\") \\\n",
    "        .field(\"open\", row[\"Open\"]) \\\n",
    "        .field(\"high\", row[\"High\"]) \\\n",
    "        .field(\"low\", row[\"Low\"]) \\\n",
    "        .field(\"close\", row[\"Close\"]) \\\n",
    "        .time(index)\n",
    "    write_api.write(bucket=bucket, org=\"admin\", record=point)\n"
   ]
  },
  {
   "cell_type": "code",
   "execution_count": 47,
   "id": "24a9c56c-b980-4c6b-a0d1-40b661f9081d",
   "metadata": {},
   "outputs": [
    {
     "name": "stdout",
     "output_type": "stream",
     "text": [
      "FluxRecord() table: 0, {'result': '_result', 'table': 0, '_start': datetime.datetime(2024, 1, 2, 8, 49, 51, 947989, tzinfo=tzlocal()), '_stop': datetime.datetime(2024, 1, 2, 8, 59, 51, 947989, tzinfo=tzlocal()), '_time': datetime.datetime(2024, 1, 2, 8, 54, 33, 527212, tzinfo=tzlocal()), '_value': 0, '_field': 'field1', '_measurement': 'measurement1', 'tagname1': 'tagvalue1'}\n",
      "FluxRecord() table: 0, {'result': '_result', 'table': 0, '_start': datetime.datetime(2024, 1, 2, 8, 49, 51, 947989, tzinfo=tzlocal()), '_stop': datetime.datetime(2024, 1, 2, 8, 59, 51, 947989, tzinfo=tzlocal()), '_time': datetime.datetime(2024, 1, 2, 8, 54, 34, 540230, tzinfo=tzlocal()), '_value': 1, '_field': 'field1', '_measurement': 'measurement1', 'tagname1': 'tagvalue1'}\n",
      "FluxRecord() table: 0, {'result': '_result', 'table': 0, '_start': datetime.datetime(2024, 1, 2, 8, 49, 51, 947989, tzinfo=tzlocal()), '_stop': datetime.datetime(2024, 1, 2, 8, 59, 51, 947989, tzinfo=tzlocal()), '_time': datetime.datetime(2024, 1, 2, 8, 54, 35, 542903, tzinfo=tzlocal()), '_value': 2, '_field': 'field1', '_measurement': 'measurement1', 'tagname1': 'tagvalue1'}\n",
      "FluxRecord() table: 0, {'result': '_result', 'table': 0, '_start': datetime.datetime(2024, 1, 2, 8, 49, 51, 947989, tzinfo=tzlocal()), '_stop': datetime.datetime(2024, 1, 2, 8, 59, 51, 947989, tzinfo=tzlocal()), '_time': datetime.datetime(2024, 1, 2, 8, 54, 36, 546117, tzinfo=tzlocal()), '_value': 3, '_field': 'field1', '_measurement': 'measurement1', 'tagname1': 'tagvalue1'}\n",
      "FluxRecord() table: 0, {'result': '_result', 'table': 0, '_start': datetime.datetime(2024, 1, 2, 8, 49, 51, 947989, tzinfo=tzlocal()), '_stop': datetime.datetime(2024, 1, 2, 8, 59, 51, 947989, tzinfo=tzlocal()), '_time': datetime.datetime(2024, 1, 2, 8, 54, 37, 549391, tzinfo=tzlocal()), '_value': 4, '_field': 'field1', '_measurement': 'measurement1', 'tagname1': 'tagvalue1'}\n",
      "FluxRecord() table: 0, {'result': '_result', 'table': 0, '_start': datetime.datetime(2024, 1, 2, 8, 49, 51, 947989, tzinfo=tzlocal()), '_stop': datetime.datetime(2024, 1, 2, 8, 59, 51, 947989, tzinfo=tzlocal()), '_time': datetime.datetime(2024, 1, 2, 8, 55, 8, 258234, tzinfo=tzlocal()), '_value': 0, '_field': 'field1', '_measurement': 'measurement1', 'tagname1': 'tagvalue1'}\n",
      "FluxRecord() table: 0, {'result': '_result', 'table': 0, '_start': datetime.datetime(2024, 1, 2, 8, 49, 51, 947989, tzinfo=tzlocal()), '_stop': datetime.datetime(2024, 1, 2, 8, 59, 51, 947989, tzinfo=tzlocal()), '_time': datetime.datetime(2024, 1, 2, 8, 55, 9, 271897, tzinfo=tzlocal()), '_value': 1, '_field': 'field1', '_measurement': 'measurement1', 'tagname1': 'tagvalue1'}\n",
      "FluxRecord() table: 0, {'result': '_result', 'table': 0, '_start': datetime.datetime(2024, 1, 2, 8, 49, 51, 947989, tzinfo=tzlocal()), '_stop': datetime.datetime(2024, 1, 2, 8, 59, 51, 947989, tzinfo=tzlocal()), '_time': datetime.datetime(2024, 1, 2, 8, 55, 10, 275002, tzinfo=tzlocal()), '_value': 2, '_field': 'field1', '_measurement': 'measurement1', 'tagname1': 'tagvalue1'}\n",
      "FluxRecord() table: 0, {'result': '_result', 'table': 0, '_start': datetime.datetime(2024, 1, 2, 8, 49, 51, 947989, tzinfo=tzlocal()), '_stop': datetime.datetime(2024, 1, 2, 8, 59, 51, 947989, tzinfo=tzlocal()), '_time': datetime.datetime(2024, 1, 2, 8, 55, 11, 278238, tzinfo=tzlocal()), '_value': 3, '_field': 'field1', '_measurement': 'measurement1', 'tagname1': 'tagvalue1'}\n",
      "FluxRecord() table: 0, {'result': '_result', 'table': 0, '_start': datetime.datetime(2024, 1, 2, 8, 49, 51, 947989, tzinfo=tzlocal()), '_stop': datetime.datetime(2024, 1, 2, 8, 59, 51, 947989, tzinfo=tzlocal()), '_time': datetime.datetime(2024, 1, 2, 8, 55, 12, 281325, tzinfo=tzlocal()), '_value': 4, '_field': 'field1', '_measurement': 'measurement1', 'tagname1': 'tagvalue1'}\n",
      "FluxRecord() table: 0, {'result': '_result', 'table': 0, '_start': datetime.datetime(2024, 1, 2, 8, 49, 51, 947989, tzinfo=tzlocal()), '_stop': datetime.datetime(2024, 1, 2, 8, 59, 51, 947989, tzinfo=tzlocal()), '_time': datetime.datetime(2024, 1, 2, 8, 56, 50, 358287, tzinfo=tzlocal()), '_value': 0, '_field': 'field1', '_measurement': 'measurement1', 'tagname1': 'tagvalue1'}\n",
      "FluxRecord() table: 0, {'result': '_result', 'table': 0, '_start': datetime.datetime(2024, 1, 2, 8, 49, 51, 947989, tzinfo=tzlocal()), '_stop': datetime.datetime(2024, 1, 2, 8, 59, 51, 947989, tzinfo=tzlocal()), '_time': datetime.datetime(2024, 1, 2, 8, 56, 51, 373580, tzinfo=tzlocal()), '_value': 1, '_field': 'field1', '_measurement': 'measurement1', 'tagname1': 'tagvalue1'}\n",
      "FluxRecord() table: 0, {'result': '_result', 'table': 0, '_start': datetime.datetime(2024, 1, 2, 8, 49, 51, 947989, tzinfo=tzlocal()), '_stop': datetime.datetime(2024, 1, 2, 8, 59, 51, 947989, tzinfo=tzlocal()), '_time': datetime.datetime(2024, 1, 2, 8, 56, 52, 377269, tzinfo=tzlocal()), '_value': 2, '_field': 'field1', '_measurement': 'measurement1', 'tagname1': 'tagvalue1'}\n",
      "FluxRecord() table: 0, {'result': '_result', 'table': 0, '_start': datetime.datetime(2024, 1, 2, 8, 49, 51, 947989, tzinfo=tzlocal()), '_stop': datetime.datetime(2024, 1, 2, 8, 59, 51, 947989, tzinfo=tzlocal()), '_time': datetime.datetime(2024, 1, 2, 8, 56, 53, 384410, tzinfo=tzlocal()), '_value': 3, '_field': 'field1', '_measurement': 'measurement1', 'tagname1': 'tagvalue1'}\n",
      "FluxRecord() table: 0, {'result': '_result', 'table': 0, '_start': datetime.datetime(2024, 1, 2, 8, 49, 51, 947989, tzinfo=tzlocal()), '_stop': datetime.datetime(2024, 1, 2, 8, 59, 51, 947989, tzinfo=tzlocal()), '_time': datetime.datetime(2024, 1, 2, 8, 56, 54, 421814, tzinfo=tzlocal()), '_value': 4, '_field': 'field1', '_measurement': 'measurement1', 'tagname1': 'tagvalue1'}\n",
      "FluxRecord() table: 0, {'result': '_result', 'table': 0, '_start': datetime.datetime(2024, 1, 2, 8, 49, 51, 947989, tzinfo=tzlocal()), '_stop': datetime.datetime(2024, 1, 2, 8, 59, 51, 947989, tzinfo=tzlocal()), '_time': datetime.datetime(2024, 1, 2, 8, 59, 46, 911404, tzinfo=tzlocal()), '_value': 0, '_field': 'field1', '_measurement': 'measurement1', 'tagname1': 'tagvalue1'}\n",
      "FluxRecord() table: 0, {'result': '_result', 'table': 0, '_start': datetime.datetime(2024, 1, 2, 8, 49, 51, 947989, tzinfo=tzlocal()), '_stop': datetime.datetime(2024, 1, 2, 8, 59, 51, 947989, tzinfo=tzlocal()), '_time': datetime.datetime(2024, 1, 2, 8, 59, 47, 925096, tzinfo=tzlocal()), '_value': 1, '_field': 'field1', '_measurement': 'measurement1', 'tagname1': 'tagvalue1'}\n",
      "FluxRecord() table: 0, {'result': '_result', 'table': 0, '_start': datetime.datetime(2024, 1, 2, 8, 49, 51, 947989, tzinfo=tzlocal()), '_stop': datetime.datetime(2024, 1, 2, 8, 59, 51, 947989, tzinfo=tzlocal()), '_time': datetime.datetime(2024, 1, 2, 8, 59, 48, 928382, tzinfo=tzlocal()), '_value': 2, '_field': 'field1', '_measurement': 'measurement1', 'tagname1': 'tagvalue1'}\n",
      "FluxRecord() table: 0, {'result': '_result', 'table': 0, '_start': datetime.datetime(2024, 1, 2, 8, 49, 51, 947989, tzinfo=tzlocal()), '_stop': datetime.datetime(2024, 1, 2, 8, 59, 51, 947989, tzinfo=tzlocal()), '_time': datetime.datetime(2024, 1, 2, 8, 59, 49, 933275, tzinfo=tzlocal()), '_value': 3, '_field': 'field1', '_measurement': 'measurement1', 'tagname1': 'tagvalue1'}\n",
      "FluxRecord() table: 0, {'result': '_result', 'table': 0, '_start': datetime.datetime(2024, 1, 2, 8, 49, 51, 947989, tzinfo=tzlocal()), '_stop': datetime.datetime(2024, 1, 2, 8, 59, 51, 947989, tzinfo=tzlocal()), '_time': datetime.datetime(2024, 1, 2, 8, 59, 50, 936629, tzinfo=tzlocal()), '_value': 4, '_field': 'field1', '_measurement': 'measurement1', 'tagname1': 'tagvalue1'}\n"
     ]
    }
   ],
   "source": []
  },
  {
   "cell_type": "code",
   "execution_count": 48,
   "id": "2d3a2d64-ceed-4639-a8f9-cb925ddb5104",
   "metadata": {},
   "outputs": [
    {
     "name": "stdout",
     "output_type": "stream",
     "text": [
      "FluxRecord() table: 0, {'result': '_result', 'table': 0, '_start': datetime.datetime(2024, 1, 2, 8, 49, 51, 962062, tzinfo=tzlocal()), '_stop': datetime.datetime(2024, 1, 2, 8, 59, 51, 962062, tzinfo=tzlocal()), '_value': 2.0, '_field': 'field1', '_measurement': 'measurement1', 'tagname1': 'tagvalue1'}\n"
     ]
    }
   ],
   "source": [
    "query_api = client.query_api()\n",
    "\n",
    "query = \"\"\"from(bucket: \"admin\")\n",
    "  |> range(start: -10m)\n",
    "  |> filter(fn: (r) => r._measurement == \"measurement1\")\n",
    "  |> mean()\"\"\"\n",
    "tables = query_api.query(query, org=\"admin\")\n",
    "for table in tables:\n",
    "    for record in table.records:\n",
    "        print(record)"
   ]
  },
  {
   "cell_type": "markdown",
   "id": "a6e4e0c0-f115-4c46-9b5c-afcb15c447fd",
   "metadata": {},
   "source": [
    "## Watch your stock shares with Grafana and InfluxDB"
   ]
  },
  {
   "cell_type": "code",
   "execution_count": 19,
   "id": "d32175a2-ced2-4d29-8f7c-dd3c2f5eb42a",
   "metadata": {},
   "outputs": [
    {
     "name": "stdout",
     "output_type": "stream",
     "text": [
      "880e676a0f903c9a00820af91e2d1da398c7751286da2cb7f196c4e4f3995fdf\n"
     ]
    }
   ],
   "source": [
    "import json\n",
    "import os\n",
    "import time\n",
    "import yfinance as yf\n",
    "import pandas as pd\n",
    "import pandas_datareader.data as web\n",
    "from datetime import datetime\n",
    "import influxdb_client, os, time\n",
    "from influxdb_client import InfluxDBClient, Point, WritePrecision\n",
    "from influxdb_client.client.write_api import SYNCHRONOUS\n",
    "from influxdb_client import InfluxDBClient, BucketRetentionRules, WriteOptions\n",
    "from influxdb_client.client.write_api import PointSettings\n",
    "import pandas as pd\n",
    "import pandas_datareader.data as web\n",
    "from datetime import datetime\n",
    "\n",
    "from influxdb_client import InfluxDBClient, BucketRetentionRules, WriteOptions\n",
    "from influxdb_client.client.write_api import PointSettings\n",
    "\n",
    "INFLUXDB_TOKEN = \"880e676a0f903c9a00820af91e2d1da398c7751286da2cb7f196c4e4f3995fdf\"\n",
    "URL    = \"192.168.31.89:8086\" # \"influxdb\"はdocker-compose.ymlのcontainer_nameで指定した名前。\n",
    "ORG    = \"admin\"                # InfluxDB初期設定で指定した組織名\n",
    "BUCKET = 'test3'        # 任意のBUCKET名\n",
    "print(token)"
   ]
  },
  {
   "cell_type": "code",
   "execution_count": 20,
   "id": "a5b40cc8-714d-4d00-94d6-a45ad28c56e1",
   "metadata": {},
   "outputs": [
    {
     "name": "stderr",
     "output_type": "stream",
     "text": [
      "[*********************100%%**********************]  1 of 1 completed\n"
     ]
    }
   ],
   "source": [
    "client = influxdb_client.InfluxDBClient(url=\"192.168.31.89:8086\", token=token, org=org)\n",
    "start_date = datetime(1990, 1, 1)\n",
    "end_date = datetime(2020, 1, 1)\n",
    "data = yf.download(\"AAPL\", start=start_date, end=end_date)\n",
    "write_api = client.write_api(write_options=SYNCHRONOUS)\n",
    "with client.write_api() as write_api:\n",
    "    for index, row in data.iterrows():\n",
    "        point = Point(\"stock_price\") \\\n",
    "            .tag(\"symbol\", \"AAPL\") \\\n",
    "            .field(\"open\", row[\"Open\"]) \\\n",
    "            .field(\"high\", row[\"High\"]) \\\n",
    "            .field(\"low\", row[\"Low\"]) \\\n",
    "            .field(\"close\", row[\"Close\"]) \\\n",
    "            .time(index)\n",
    "        write_api.write(bucket=\"test3\", record=point)\n"
   ]
  },
  {
   "cell_type": "code",
   "execution_count": null,
   "id": "277ca475-246f-4eb3-8690-ce01b7564ccc",
   "metadata": {},
   "outputs": [],
   "source": []
  },
  {
   "cell_type": "code",
   "execution_count": null,
   "id": "a6d1845c-96d5-4464-9f73-52e1ad90ca55",
   "metadata": {},
   "outputs": [],
   "source": [
    "\n",
    "import pandas as pd\n",
    "import pandas_datareader.data as web\n",
    "from datetime import datetime\n",
    "\n",
    "from influxdb_client import InfluxDBClient, BucketRetentionRules, WriteOptions\n",
    "from influxdb_client.client.write_api import PointSettings\n",
    "\n",
    "# Bucketの生成\n",
    "#https://github.com/influxdata/influxdb-client-python/blob/master/influxdb_client/domain/bucket_retention_rules.py\n",
    "\n",
    "with InfluxDBClient(url=URL, token=INFLUXDB_TOKEN) as client:\n",
    "    buckets_api = client.buckets_api()\n",
    "    retention_rules = BucketRetentionRules(type=\"expire\", every_seconds=0, shard_group_duration_seconds=3600*24*365*10) # every_seconds = 0 means infinite\n",
    "    created_bucket = buckets_api.create_bucket(bucket_name=BUCKET,\n",
    "                                               retention_rules=retention_rules,\n",
    "                                               org=ORG)\n",
    "    print(created_bucket)\n",
    "\n",
    "#株価をyahoo financeからダウンロード(例としてfordとGE)\n",
    "\n",
    "start = datetime(1900,1,1)\n",
    "end  = datetime(2100,1,1)\n",
    "\n",
    "ford = web.DataReader('F', 'yahoo', start=start, end=end)\n",
    "GE = web.DataReader('GE', 'yahoo', start=start, end=end)\n",
    "\n",
    "#後にGrafanaでのローソク足表示の際にすんなり認識される様に列名を変更\n",
    "#また、調整済みcloseの値（Adj close）をcloseとする\n",
    "\n",
    "ford.columns = [\"high\", \"low\", \"open\", \"close.raw\", \"volume\", \"close\"]\n",
    "GE.columns =  [\"high\", \"low\", \"open\", \"close.raw\", \"volume\", \"close\"]\n",
    "\n",
    "#タイムスタンプを米国東部時間でのNasdaqとNYSEのOpen時間（午前9:30）に設定\n",
    "\n",
    "ford.index = ford.index.tz_localize(tz='US/Eastern')+pd.DateOffset(hours=9.5)\n",
    "ford.index = ford.index.tz_convert(tz='UTC')\n",
    "\n",
    "GE.index = GE.index.tz_localize(tz='US/Eastern')+pd.DateOffset(hours=9.5)\n",
    "GE.index = GE.index.tz_convert(tz='UTC')\n",
    "\n",
    "# Bollinger Band, SMA(simple moving average)を計算して追加\n",
    "import talib\n",
    "\n",
    "timeperiod = 20\n",
    "\n",
    "upper, middle, lower = talib.BBANDS(ford[\"close\"], timeperiod=timeperiod)\n",
    "SMA = talib.SMA(ford[\"close\"], timeperiod=timeperiod)\n",
    "ford = pd.concat([ford, upper.rename('Upper Bollinger Band'), middle.rename('Middle Bollinger Band'), lower.rename('Lower Bollinger Band'), SMA.rename('SMA')], axis=1)\n",
    "\n",
    "upper, middle, lower = talib.BBANDS(GE[\"close\"], timeperiod=timeperiod)\n",
    "SMA = talib.SMA(GE[\"close\"], timeperiod=timeperiod)\n",
    "GE = pd.concat([GE, upper.rename('Upper Bollinger Band'), middle.rename('Middle Bollinger Band'), lower.rename('Lower Bollinger Band'), SMA.rename('SMA')], axis=1)\n",
    "\n",
    "# 株価を投入\n",
    "\n",
    "def write_dataframe(client, bucket, df, point_settings):\n",
    "    \n",
    "    with client.write_api(write_options=WriteOptions(batch_size=1000, flush_interval=30_000, jitter_interval=10_000, retry_interval=30_000), point_settings=point_settings) as write_api:\n",
    "\n",
    "        write_api.write(bucket=bucket, record=df,\n",
    "            data_frame_tag_columns=['retrieved from', 'inject time', 'SYMBOL', 'name'],\n",
    "            data_frame_measurement_name=\"stock prices\")\n",
    "\n",
    "client = InfluxDBClient(url=URL, token=INFLUXDB_TOKEN, org=ORG, timeout=30_000)\n",
    "\n",
    "# ford株価投入\n",
    "point_settings = PointSettings(**{\"retrieved from\" : \"yahoo finance\", \"inject time\": str(datetime.now()), \"SYMBOL\" : \"F\", \"NAME\" : \"ford\", \"transform\" : \"original\"})\n",
    "write_dataframe(client, BUCKET, ford, point_settings)\n",
    "\n",
    "# GE株価投入\n",
    "point_settings = PointSettings(**{\"retrieved from\" : \"yahoo finance\", \"inject time\": str(datetime.now()), \"SYMBOL\" : \"GE\", \"NAME\" : \"GE\", \"transform\" : \"original\"}})\n",
    "write_dataframe(client, BUCKET, GE, point_settings)\n"
   ]
  },
  {
   "cell_type": "code",
   "execution_count": 28,
   "id": "eac97684-7960-401c-b185-cf046be68a89",
   "metadata": {},
   "outputs": [
    {
     "name": "stderr",
     "output_type": "stream",
     "text": [
      "[*********************100%%**********************]  1 of 1 completed\n"
     ]
    }
   ],
   "source": [
    "import yfinance as yf\n",
    "from datetime import datetime\n",
    "from influxdb_client import InfluxDBClient, Point, WritePrecision\n",
    "from influxdb_client.client.write_api import SYNCHRONOUS\n",
    "import pandas as pd\n",
    "!pip install i\n",
    "# 첫 번째 코드에서 사용된 변수들\n",
    "INFLUXDB_TOKEN = \"880e676a0f903c9a00820af91e2d1da398c7751286da2cb7f196c4e4f3995fdf\"\n",
    "URL    = \"192.168.31.89:8086\"\n",
    "ORG    = \"admin\"\n",
    "BUCKET = 'test3'\n",
    "\n",
    "start_date = datetime(1990, 1, 1)\n",
    "end_date = datetime(2020, 1, 1)\n",
    "\n",
    "client = InfluxDBClient(url=URL, token=INFLUXDB_TOKEN, org=ORG)\n",
    "\n",
    "# yfinance를 이용해 주식 데이터를 다운로드합니다.\n",
    "data = yf.download('AAPL', start=start_date, end=end_date)\n",
    "data.columns = [\"high\", \"low\", \"open\", \"close.raw\", \"volume\", \"close\"]\n",
    "\n",
    "# Simple Moving Average 및 표준 편차를 계산합니다.\n",
    "timeperiod = 20\n",
    "SMA = data['close'].rolling(window=timeperiod).mean()\n",
    "stddev = data['close'].rolling(window=timeperiod).std()\n",
    "\n",
    "# 볼린저 밴드를 계산합니다.\n",
    "data['Lower Bollinger Band'] = SMA - 2*stddev\n",
    "data['Middle Bollinger Band'] = SMA\n",
    "data['Upper Bollinger Band'] = SMA + 2*stddev\n",
    "\n",
    "# InfluxDB에 데이터를 씁니다.\n",
    "with client.write_api(write_options=SYNCHRONOUS) as write_api:\n",
    "    for index, row in data.iterrows():\n",
    "        # yfinance에서 다운로드한 데이터의 타임스탬프를 사용합니다.\n",
    "        timestamp = index.to_pydatetime()\n",
    "\n",
    "        point = Point(\"stock_price\") \\\n",
    "            .tag(\"symbol\", \"AAPL\") \\\n",
    "            .field(\"open\", row[\"open\"]) \\\n",
    "            .field(\"high\", row[\"high\"]) \\\n",
    "            .field(\"low\", row[\"low\"]) \\\n",
    "            .field(\"close\", row[\"close\"]) \\\n",
    "            .time(timestamp, WritePrecision.NS)\n",
    "        write_api.write(bucket=BUCKET, record=point)\n"
   ]
  },
  {
   "cell_type": "code",
   "execution_count": 34,
   "id": "b3b0fdef-3da8-4f5f-af9b-918b8acf0160",
   "metadata": {},
   "outputs": [],
   "source": [
    "import json\n",
    "import os\n",
    "import time\n",
    "import yfinance as yf\n",
    "from influxdb import InfluxDBClient\n",
    "\n",
    "class StockData:\n",
    "    def __init__(self):\n",
    "        self.influxdbClient = InfluxDBClient(\n",
    "            host=os.environ['192.168.31.89'],\n",
    "            port=os.environ['8086'],\n",
    "            database=os.environ['test3']\n",
    "        )\n",
    "\n",
    "    def run(self):\n",
    "        while True:\n",
    "            ticker = yf.Ticker('^GSPC')\n",
    "            history = ticker.history()\n",
    "            last_quote = history.tail(1)['Close'].iloc[0]\n",
    "            json_body = [\n",
    "                {\n",
    "                    \"measurement\": \"stock_price\",\n",
    "                    \"tags\": {\n",
    "                        \"name\": \"S&P 500\"\n",
    "                    },\n",
    "                    \"fields\": {\n",
    "                        \"price\": last_quote\n",
    "                    }\n",
    "                }\n",
    "            ]\n",
    "            self.influxdbClient.write_points(json_body)\n",
    "            time.sleep(60)\n"
   ]
  },
  {
   "cell_type": "code",
   "execution_count": null,
   "id": "ea695671-a850-4b30-9df5-009902f66a05",
   "metadata": {},
   "outputs": [],
   "source": []
  }
 ],
 "metadata": {
  "kernelspec": {
   "display_name": "Python 3 (ipykernel)",
   "language": "python",
   "name": "python3"
  },
  "language_info": {
   "codemirror_mode": {
    "name": "ipython",
    "version": 3
   },
   "file_extension": ".py",
   "mimetype": "text/x-python",
   "name": "python",
   "nbconvert_exporter": "python",
   "pygments_lexer": "ipython3",
   "version": "3.11.6"
  },
  "widgets": {
   "application/vnd.jupyter.widget-state+json": {
    "state": {},
    "version_major": 2,
    "version_minor": 0
   }
  }
 },
 "nbformat": 4,
 "nbformat_minor": 5
}
