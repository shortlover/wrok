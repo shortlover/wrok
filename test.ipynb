{
 "cells": [
  {
   "cell_type": "code",
   "execution_count": 2,
   "id": "df089956-ec00-4dc2-9f25-088747f80566",
   "metadata": {},
   "outputs": [
    {
     "data": {
      "text/plain": [
       "4"
      ]
     },
     "execution_count": 2,
     "metadata": {},
     "output_type": "execute_result"
    }
   ],
   "source": [
    "import multiprocessing\n",
    "multiprocessing.cpu_count()"
   ]
  },
  {
   "cell_type": "code",
   "execution_count": 14,
   "id": "f0d89b02-008f-4d29-a425-f405ae10d794",
   "metadata": {},
   "outputs": [
    {
     "name": "stdout",
     "output_type": "stream",
     "text": [
      "Requirement already satisfied: pip in /opt/conda/lib/python3.11/site-packages (23.3.2)\n",
      "Collecting influxdb-client\n",
      "  Downloading influxdb_client-1.39.0-py3-none-any.whl.metadata (63 kB)\n",
      "\u001b[2K     \u001b[90m━━━━━━━━━━━━━━━━━━━━━━━━━━━━━━━━━━━━━━━━\u001b[0m \u001b[32m63.9/63.9 kB\u001b[0m \u001b[31m4.7 MB/s\u001b[0m eta \u001b[36m0:00:00\u001b[0m\n",
      "\u001b[?25hCollecting reactivex>=4.0.4 (from influxdb-client)\n",
      "  Downloading reactivex-4.0.4-py3-none-any.whl (217 kB)\n",
      "\u001b[2K     \u001b[90m━━━━━━━━━━━━━━━━━━━━━━━━━━━━━━━━━━━━━━━\u001b[0m \u001b[32m217.8/217.8 kB\u001b[0m \u001b[31m8.7 MB/s\u001b[0m eta \u001b[36m0:00:00\u001b[0m\n",
      "\u001b[?25hRequirement already satisfied: certifi>=14.05.14 in /opt/conda/lib/python3.11/site-packages (from influxdb-client) (2023.11.17)\n",
      "Requirement already satisfied: python-dateutil>=2.5.3 in /opt/conda/lib/python3.11/site-packages (from influxdb-client) (2.8.2)\n",
      "Requirement already satisfied: setuptools>=21.0.0 in /opt/conda/lib/python3.11/site-packages (from influxdb-client) (68.2.2)\n",
      "Requirement already satisfied: urllib3>=1.26.0 in /opt/conda/lib/python3.11/site-packages (from influxdb-client) (2.1.0)\n",
      "Requirement already satisfied: six>=1.5 in /opt/conda/lib/python3.11/site-packages (from python-dateutil>=2.5.3->influxdb-client) (1.16.0)\n",
      "Requirement already satisfied: typing-extensions<5.0.0,>=4.1.1 in /opt/conda/lib/python3.11/site-packages (from reactivex>=4.0.4->influxdb-client) (4.9.0)\n",
      "Downloading influxdb_client-1.39.0-py3-none-any.whl (743 kB)\n",
      "\u001b[2K   \u001b[90m━━━━━━━━━━━━━━━━━━━━━━━━━━━━━━━━━━━━━━━━\u001b[0m \u001b[32m744.0/744.0 kB\u001b[0m \u001b[31m41.9 MB/s\u001b[0m eta \u001b[36m0:00:00\u001b[0m\n",
      "\u001b[?25hInstalling collected packages: reactivex, influxdb-client\n",
      "Successfully installed influxdb-client-1.39.0 reactivex-4.0.4\n"
     ]
    }
   ],
   "source": [
    "!pip3 install --upgrade pip\n",
    "!pip3 install influxdb-client"
   ]
  },
  {
   "cell_type": "code",
   "execution_count": 3,
   "id": "04066841-b34f-413e-b9ef-d34e8b7ad722",
   "metadata": {
    "scrolled": true
   },
   "outputs": [
    {
     "name": "stdout",
     "output_type": "stream",
     "text": [
      "Current frequency: 3201.0 MHz\n",
      "Minimum frequency: 800.0 MHz\n",
      "Maximum frequency: 3201.0 MHz\n"
     ]
    }
   ],
   "source": [
    "import psutil\n",
    "\n",
    "# Get CPU frequency information\n",
    "cpu_freq = psutil.cpu_freq()\n",
    "\n",
    "# Print current, minimum, and maximum frequencies\n",
    "print(f\"Current frequency: {cpu_freq.current} MHz\")\n",
    "print(f\"Minimum frequency: {cpu_freq.min} MHz\")\n",
    "print(f\"Maximum frequency: {cpu_freq.max} MHz\")\n"
   ]
  },
  {
   "cell_type": "code",
   "execution_count": 4,
   "id": "98793b72-5e27-469c-bb6f-0450a619e2c3",
   "metadata": {},
   "outputs": [
    {
     "name": "stdout",
     "output_type": "stream",
     "text": [
      "Current CPU frequency: 3201.00 MHz\n"
     ]
    }
   ],
   "source": [
    "import psutil\n",
    "\n",
    "cpu_info = psutil.cpu_freq()\n",
    "print(f\"Current CPU frequency: {cpu_info.current:.2f} MHz\")\n"
   ]
  },
  {
   "cell_type": "code",
   "execution_count": 5,
   "id": "28f60252-93f3-401f-8285-e6e02469dbcb",
   "metadata": {},
   "outputs": [
    {
     "name": "stdout",
     "output_type": "stream",
     "text": [
      "Number of CPU cores: 4\n",
      "Threads per core: 1\n"
     ]
    }
   ],
   "source": [
    "import multiprocessing\n",
    "num_cores = multiprocessing.cpu_count()\n",
    "print(f\"Number of CPU cores: {num_cores}\")\n",
    "import psutil\n",
    "threads_per_core = psutil.cpu_count() // psutil.cpu_count(logical=False)\n",
    "print(f\"Threads per core: {threads_per_core}\")\n"
   ]
  },
  {
   "cell_type": "code",
   "execution_count": 9,
   "id": "69b4c8bc-1aa5-4665-85ba-602acaf9d461",
   "metadata": {},
   "outputs": [
    {
     "name": "stdout",
     "output_type": "stream",
     "text": [
      "/opt/conda/bin/python\n",
      "/opt/conda/bin/python: No module named pip\n",
      "Looking in links: /tmp/tmpw3ezadny\n",
      "Requirement already satisfied: setuptools in /opt/conda/lib/python3.11/site-packages (68.2.2)\n",
      "Processing /tmp/tmpw3ezadny/pip-23.2.1-py3-none-any.whl\n",
      "Installing collected packages: pip\n",
      "Successfully installed pip-23.2.1\n"
     ]
    }
   ],
   "source": [
    "import sys\n",
    "print(sys.executable)\n",
    "!{sys.executable} -m pip --version\n",
    "import sys\n",
    "!{sys.executable} -m ensurepip --upgrade\n"
   ]
  },
  {
   "cell_type": "code",
   "execution_count": 6,
   "id": "306d4c7b-cbd8-4ce2-a6a6-3aa3cb7bfeb8",
   "metadata": {},
   "outputs": [
    {
     "ename": "ModuleNotFoundError",
     "evalue": "No module named 'tensorflow'",
     "output_type": "error",
     "traceback": [
      "\u001b[0;31m---------------------------------------------------------------------------\u001b[0m",
      "\u001b[0;31mModuleNotFoundError\u001b[0m                       Traceback (most recent call last)",
      "Cell \u001b[0;32mIn[6], line 3\u001b[0m\n\u001b[1;32m      1\u001b[0m \u001b[38;5;28;01mimport\u001b[39;00m \u001b[38;5;21;01mos\u001b[39;00m\n\u001b[1;32m      2\u001b[0m os\u001b[38;5;241m.\u001b[39menviron[\u001b[38;5;124m'\u001b[39m\u001b[38;5;124mCUDA_VISIBLE_DEVICES\u001b[39m\u001b[38;5;124m'\u001b[39m] \u001b[38;5;241m=\u001b[39m \u001b[38;5;124m'\u001b[39m\u001b[38;5;124m-1\u001b[39m\u001b[38;5;124m'\u001b[39m\n\u001b[0;32m----> 3\u001b[0m \u001b[38;5;28;01mimport\u001b[39;00m \u001b[38;5;21;01mtensorflow\u001b[39;00m \u001b[38;5;28;01mas\u001b[39;00m \u001b[38;5;21;01mtf\u001b[39;00m\n\u001b[1;32m      4\u001b[0m gpus \u001b[38;5;241m=\u001b[39m tf\u001b[38;5;241m.\u001b[39mconfig\u001b[38;5;241m.\u001b[39mlist_physical_devices(\u001b[38;5;124m'\u001b[39m\u001b[38;5;124mGPU\u001b[39m\u001b[38;5;124m'\u001b[39m)\n\u001b[1;32m      5\u001b[0m \u001b[38;5;28;01mif\u001b[39;00m gpus:\n",
      "\u001b[0;31mModuleNotFoundError\u001b[0m: No module named 'tensorflow'"
     ]
    }
   ],
   "source": [
    "import os\n",
    "os.environ['CUDA_VISIBLE_DEVICES'] = '-1'\n",
    "import tensorflow as tf\n",
    "gpus = tf.config.list_physical_devices('GPU')\n",
    "if gpus:\n",
    "    for gpu in gpus:\n",
    "        if 'Intel' in gpu.name:\n",
    "            print(f\"Found an Intel GPU with the name: {gpu.name}\")\n",
    "else:\n",
    "    print(\"No Intel GPU detected.\")\n"
   ]
  },
  {
   "cell_type": "code",
   "execution_count": null,
   "id": "9c5e10b1-14e1-4c2a-8e66-b38cd5011f4e",
   "metadata": {},
   "outputs": [],
   "source": []
  },
  {
   "cell_type": "code",
   "execution_count": 7,
   "id": "36c5bc86-62df-4b6d-b7a5-c0c35a1ea375",
   "metadata": {},
   "outputs": [
    {
     "name": "stdout",
     "output_type": "stream",
     "text": [
      "/bin/bash: line 1: pip: command not found\n"
     ]
    }
   ],
   "source": [
    "!pip install tensorflow"
   ]
  },
  {
   "cell_type": "code",
   "execution_count": null,
   "id": "18fc6f55-de4e-49f5-971c-fcbd5dcbfa13",
   "metadata": {},
   "outputs": [],
   "source": [
    "import tensorflow as tf"
   ]
  },
  {
   "cell_type": "code",
   "execution_count": null,
   "id": "4bf6b476-e1a2-424a-9830-44532269e8d5",
   "metadata": {},
   "outputs": [],
   "source": [
    "!docker pull jupyter/tensorflow-notebook\n"
   ]
  },
  {
   "cell_type": "code",
   "execution_count": null,
   "id": "4de273d6-6e8f-4a5d-af22-adc510e28212",
   "metadata": {},
   "outputs": [],
   "source": [
    "!jupyter --paths"
   ]
  },
  {
   "cell_type": "code",
   "execution_count": null,
   "id": "56723a4e-6081-4349-b8f7-271f69aec864",
   "metadata": {},
   "outputs": [],
   "source": [
    "!docker pull jupyter/tensorflow-notebook"
   ]
  },
  {
   "cell_type": "code",
   "execution_count": null,
   "id": "2bce0bc1-a3f8-4d13-8058-f21f989813aa",
   "metadata": {},
   "outputs": [],
   "source": [
    "!jupyter --paths"
   ]
  },
  {
   "cell_type": "code",
   "execution_count": null,
   "id": "bd8e9893-0a47-4b69-bea1-dd36b41ac49e",
   "metadata": {},
   "outputs": [],
   "source": [
    "!find / -name \"*tensorflow*.ipynb\""
   ]
  },
  {
   "cell_type": "code",
   "execution_count": null,
   "id": "3f2b7499-5d90-4479-bd2d-13913177a13a",
   "metadata": {},
   "outputs": [],
   "source": [
    "!docker run -p 8888:8888 jupyter/tensorflow-notebook"
   ]
  },
  {
   "cell_type": "code",
   "execution_count": null,
   "id": "21c32edd-1b4d-4ad5-89be-774b49ba1bba",
   "metadata": {},
   "outputs": [],
   "source": [
    "!pip install plotly\n"
   ]
  },
  {
   "cell_type": "code",
   "execution_count": null,
   "id": "c7efc63a-573b-408f-9338-9423310f0e30",
   "metadata": {},
   "outputs": [],
   "source": [
    "import plotly.express as px\n",
    "import pandas as pd\n",
    "\n",
    "# Create a sample dataframe\n",
    "df = pd.DataFrame({\n",
    "    \"x\": [1, 2, 3, 4, 5],\n",
    "    \"y\": [2, 4, 1, 3, 5]\n",
    "})\n",
    "\n",
    "# Create a scatter plot\n",
    "fig = px.scatter(df, x=\"x\", y=\"y\")\n",
    "\n",
    "# Show the plot\n",
    "fig.show()\n"
   ]
  },
  {
   "cell_type": "code",
   "execution_count": null,
   "id": "4e7c453a-1c0a-4ce2-affb-61d2ef087e5c",
   "metadata": {},
   "outputs": [],
   "source": [
    "import subprocess\n",
    "\n",
    "# Define the command to run\n",
    "cmd = 'intel_gpu_top -J'\n",
    "\n",
    "# Define a function to run the command\n",
    "def run_command(command):\n",
    "    val = subprocess.run(command, capture_output=True).stdout.decode(\"ascii\")\n",
    "    return val.strip()\n",
    "\n",
    "# Run the command and print the output\n",
    "output = run_command(cmd.split())\n",
    "print(output)\n",
    "\n",
    "\n",
    "from multiprocessing import Pool, cpu_count\n",
    "\n",
    "def random_calculation(x):\n",
    "    while True:\n",
    "        x * x\n",
    "\n",
    "if __name__ == \"__main__\":\n",
    "    num_cores = cpu_count()\n",
    "    with Pool(processes=num_cores) as p:\n",
    "        p.map(random_calculation, range(num_cores))\n"
   ]
  }
 ],
 "metadata": {
  "kernelspec": {
   "display_name": "Python 3 (ipykernel)",
   "language": "python",
   "name": "python3"
  },
  "language_info": {
   "codemirror_mode": {
    "name": "ipython",
    "version": 3
   },
   "file_extension": ".py",
   "mimetype": "text/x-python",
   "name": "python",
   "nbconvert_exporter": "python",
   "pygments_lexer": "ipython3",
   "version": "3.11.6"
  },
  "widgets": {
   "application/vnd.jupyter.widget-state+json": {
    "state": {},
    "version_major": 2,
    "version_minor": 0
   }
  }
 },
 "nbformat": 4,
 "nbformat_minor": 5
}
