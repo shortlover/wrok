{
 "cells": [
  {
   "cell_type": "markdown",
   "id": "8b0f11db-c23f-4dd4-b60b-a2deb2c4c832",
   "metadata": {},
   "source": [
    "## CorrelationPlusContagion\n",
    "\r\n",
    "R Code for \"Correlation and Contagion: Measuring Systematic Risk with Semiparametric Methods\". Contains full working code for all estimation procedures in for measuring systematic risk in financial portfolios with the introduced methodologies in the thesis. The central code is MLEandCAViaR-FullCode.R with other .R files containing specific functions or processes\n",
    "\"\n",
    "https://github.com/AjayTsao/CorrelationPlusContagio\"."
   ]
  },
  {
   "cell_type": "code",
   "execution_count": 1,
   "id": "3c2a84d3-cf23-4538-93e6-712449095aa4",
   "metadata": {},
   "outputs": [],
   "source": [
    "#conda install -c r r-gsl -y\n",
    "#conda install -c r r-copula -y\n",
    "#conda install -c r r-HMMcopula -y\n",
    "#install.packages(\"bnlearn\")"
   ]
  },
  {
   "cell_type": "code",
   "execution_count": 1,
   "id": "a56543c0-bea2-4c59-bcc0-32657b86d419",
   "metadata": {},
   "outputs": [
    {
     "name": "stderr",
     "output_type": "stream",
     "text": [
      "Loading required package: matrixcalc\n",
      "\n",
      "Loading required package: mvtnorm\n",
      "\n",
      "Loading required package: foreach\n",
      "\n",
      "Loading required package: doParallel\n",
      "\n",
      "Loading required package: iterators\n",
      "\n",
      "Loading required package: parallel\n",
      "\n",
      "Loading required package: copula\n",
      "\n"
     ]
    }
   ],
   "source": [
    "library(HMMcopula)\n",
    "library(bnlearn)"
   ]
  },
  {
   "cell_type": "markdown",
   "id": "d6c5f769-85bd-40c0-a253-2d1247229e31",
   "metadata": {},
   "source": [
    "## R\n",
    "To analyze the dynamic Markov state transition Copula model between stock market and bond market in code, you can use the HMMcopula package in R 1. Here is an example R code snippet that fits a Markov regime switching Copula model to stock and bond market data:\r\n",
    "R"
   ]
  },
  {
   "cell_type": "code",
   "execution_count": 3,
   "id": "0c29799c-f4aa-4775-960f-6a3d5e5ed262",
   "metadata": {},
   "outputs": [
    {
     "name": "stderr",
     "output_type": "stream",
     "text": [
      "Warning message in file(file, \"rt\"):\n",
      "“cannot open file 'data.csv': No such file or directory”\n"
     ]
    },
    {
     "ename": "ERROR",
     "evalue": "Error in file(file, \"rt\"): cannot open the connection\n",
     "output_type": "error",
     "traceback": [
      "Error in file(file, \"rt\"): cannot open the connection\nTraceback:\n",
      "1. read.csv(\"data.csv\")",
      "2. read.table(file = file, header = header, sep = sep, quote = quote, \n .     dec = dec, fill = fill, comment.char = comment.char, ...)",
      "3. file(file, \"rt\")"
     ]
    }
   ],
   "source": [
    "\n",
    "# Define copula\n",
    "copula <- GaussianCopula(dim = 2)\n",
    "# Fit copula\n",
    "fit <- fitHMMcopula(data, copula)\n",
    "# Calculate time-varying conditional value-at-risk\n",
    "alpha <- 0.05\n",
    "VaR <- qnorm(alpha)\n",
    "CVaR <- timeVar(fit, alpha, VaR)\n",
    "print(paste0(\"The time-varying conditional value-at-risk is \", round(CVaR, 2)))"
   ]
  },
  {
   "cell_type": "code",
   "execution_count": null,
   "id": "80fddff0-70b6-46a6-a8ef-33fac486d6d7",
   "metadata": {},
   "outputs": [],
   "source": []
  }
 ],
 "metadata": {
  "kernelspec": {
   "display_name": "R",
   "language": "R",
   "name": "ir"
  },
  "language_info": {
   "codemirror_mode": "r",
   "file_extension": ".r",
   "mimetype": "text/x-r-source",
   "name": "R",
   "pygments_lexer": "r",
   "version": "4.3.1"
  },
  "widgets": {
   "application/vnd.jupyter.widget-state+json": {
    "state": {},
    "version_major": 2,
    "version_minor": 0
   }
  }
 },
 "nbformat": 4,
 "nbformat_minor": 5
}
