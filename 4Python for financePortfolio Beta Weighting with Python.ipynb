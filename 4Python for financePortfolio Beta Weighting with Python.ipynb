{
 "cells": [
  {
   "cell_type": "markdown",
   "metadata": {
    "id": "MVnl2Hg1oeAO"
   },
   "source": [
    "# Python for Finance: Beta Weighting your Portfolio\n",
    " we begin by using yfinance to import financial stock data."
   ]
  },
  {
   "cell_type": "code",
   "execution_count": 1,
   "metadata": {
    "colab": {
     "base_uri": "https://localhost:8080/",
     "height": 469
    },
    "executionInfo": {
     "elapsed": 7110,
     "status": "ok",
     "timestamp": 1644817569930,
     "user": {
      "displayName": "Jonathon Emerick",
      "photoUrl": "https://lh3.googleusercontent.com/a-/AOh14Giq9xEw4DhtJYHMD-QFk9rivPfE8jUcWMAkBjHx=s64",
      "userId": "16629380951441395759"
     },
     "user_tz": -600
    },
    "id": "o1ZhzpeuxDJv",
    "outputId": "ec70013c-a4d3-4685-8be7-b727dbfef07b"
   },
   "outputs": [],
   "source": [
    "## This is required for pandas_datareader on google colab - then you need to restart runtime\n",
    "#!pip install --upgrade pandas_datareader"
   ]
  },
  {
   "cell_type": "code",
   "execution_count": 2,
   "metadata": {
    "id": "INN1zNpwoeAP"
   },
   "outputs": [],
   "source": [
    "import datetime as dt\n",
    "import pandas as pd\n",
    "import numpy as np\n",
    "from scipy import stats\n",
    "from pandas_datareader import data as pdr\n",
    "import yfinance as yf\n",
    "from pandas_datareader import data as pdr\n",
    "import plotly.offline as pyo\n",
    "import plotly.graph_objects as go\n",
    "from plotly.subplots import make_subplots\n",
    "yf.pdr_override()"
   ]
  },
  {
   "cell_type": "markdown",
   "metadata": {
    "id": "jycImdaZoeAQ"
   },
   "source": [
    "#### Step 1: Specify date range for analysis\n",
    "Here we begin by creating start and end dates using pythons datetime module."
   ]
  },
  {
   "cell_type": "code",
   "execution_count": 3,
   "metadata": {
    "colab": {
     "base_uri": "https://localhost:8080/"
    },
    "executionInfo": {
     "elapsed": 290,
     "status": "ok",
     "timestamp": 1644817584670,
     "user": {
      "displayName": "Jonathon Emerick",
      "photoUrl": "https://lh3.googleusercontent.com/a-/AOh14Giq9xEw4DhtJYHMD-QFk9rivPfE8jUcWMAkBjHx=s64",
      "userId": "16629380951441395759"
     },
     "user_tz": -600
    },
    "id": "Y7k-d0JJoeAQ",
    "outputId": "bed39337-9663-49dc-a95c-dfcb6cb57f2c"
   },
   "outputs": [
    {
     "data": {
      "text/plain": [
       "(datetime.datetime(2010, 1, 1, 0, 0),\n",
       " datetime.datetime(2024, 1, 27, 13, 3, 12, 410882))"
      ]
     },
     "execution_count": 3,
     "metadata": {},
     "output_type": "execute_result"
    }
   ],
   "source": [
    "start = dt.datetime(2010, 1, 1)\n",
    "end = dt.datetime.now()\n",
    "start, end"
   ]
  },
  {
   "cell_type": "markdown",
   "metadata": {
    "id": "--vRXSVJoeAR"
   },
   "source": [
    "#### Step 2: Select the stocks/tickers you would like to analyse\n",
    "For Australian stocks, yahoo tickers require '.AX' to be specified at the end of the ticker symbol.\n",
    "\n",
    "For other tickers, use the search bar in yahoo finance to work out other ticker structures.\n",
    "https://au.finance.yahoo.com/"
   ]
  },
  {
   "cell_type": "code",
   "execution_count": 4,
   "metadata": {
    "colab": {
     "base_uri": "https://localhost:8080/"
    },
    "executionInfo": {
     "elapsed": 289,
     "status": "ok",
     "timestamp": 1644817587224,
     "user": {
      "displayName": "Jonathon Emerick",
      "photoUrl": "https://lh3.googleusercontent.com/a-/AOh14Giq9xEw4DhtJYHMD-QFk9rivPfE8jUcWMAkBjHx=s64",
      "userId": "16629380951441395759"
     },
     "user_tz": -600
    },
    "id": "NXl65voqoeAR",
    "outputId": "b6e9667b-9704-4d20-f9cb-71d3db83bccb"
   },
   "outputs": [
    {
     "data": {
      "text/plain": [
       "['^AXJO', 'CBA.AX', 'NAB.AX', 'WBC.AX', 'ANZ.AX']"
      ]
     },
     "execution_count": 4,
     "metadata": {},
     "output_type": "execute_result"
    }
   ],
   "source": [
    "stockList = ['CBA', 'NAB', 'WBC', 'ANZ']\n",
    "stocks = ['^AXJO'] + [i + '.AX' for i in stockList]\n",
    "stocks"
   ]
  },
  {
   "cell_type": "markdown",
   "metadata": {
    "id": "-pECOhG8oeAS"
   },
   "source": [
    "#### Step 3 call the Pandas_Datareader DataReader module:\n",
    "Two ways of doing this:\n",
    "1. pdr.DataReader(stocks, 'yahoo', start, end)\n",
    "2. pdr.get_data_yahoo(stocks, start, end)"
   ]
  },
  {
   "cell_type": "code",
   "execution_count": 5,
   "metadata": {
    "colab": {
     "base_uri": "https://localhost:8080/",
     "height": 238
    },
    "executionInfo": {
     "elapsed": 5186,
     "status": "ok",
     "timestamp": 1644817594808,
     "user": {
      "displayName": "Jonathon Emerick",
      "photoUrl": "https://lh3.googleusercontent.com/a-/AOh14Giq9xEw4DhtJYHMD-QFk9rivPfE8jUcWMAkBjHx=s64",
      "userId": "16629380951441395759"
     },
     "user_tz": -600
    },
    "id": "MJihFpyGoeAS",
    "outputId": "69428837-a62c-41e4-e211-1b9c782cb87a"
   },
   "outputs": [
    {
     "name": "stderr",
     "output_type": "stream",
     "text": [
      "[*********************100%%**********************]  5 of 5 completed\n"
     ]
    },
    {
     "data": {
      "text/html": [
       "<div>\n",
       "<style scoped>\n",
       "    .dataframe tbody tr th:only-of-type {\n",
       "        vertical-align: middle;\n",
       "    }\n",
       "\n",
       "    .dataframe tbody tr th {\n",
       "        vertical-align: top;\n",
       "    }\n",
       "\n",
       "    .dataframe thead th {\n",
       "        text-align: right;\n",
       "    }\n",
       "</style>\n",
       "<table border=\"1\" class=\"dataframe\">\n",
       "  <thead>\n",
       "    <tr style=\"text-align: right;\">\n",
       "      <th>Ticker</th>\n",
       "      <th>ANZ.AX</th>\n",
       "      <th>CBA.AX</th>\n",
       "      <th>NAB.AX</th>\n",
       "      <th>WBC.AX</th>\n",
       "      <th>^AXJO</th>\n",
       "    </tr>\n",
       "    <tr>\n",
       "      <th>Date</th>\n",
       "      <th></th>\n",
       "      <th></th>\n",
       "      <th></th>\n",
       "      <th></th>\n",
       "      <th></th>\n",
       "    </tr>\n",
       "  </thead>\n",
       "  <tbody>\n",
       "    <tr>\n",
       "      <th>2010-01-05</th>\n",
       "      <td>0.004794</td>\n",
       "      <td>0.015013</td>\n",
       "      <td>0.012693</td>\n",
       "      <td>0.008266</td>\n",
       "      <td>0.009795</td>\n",
       "    </tr>\n",
       "    <tr>\n",
       "      <th>2010-01-06</th>\n",
       "      <td>-0.014893</td>\n",
       "      <td>0.005014</td>\n",
       "      <td>-0.019651</td>\n",
       "      <td>-0.004715</td>\n",
       "      <td>-0.000589</td>\n",
       "    </tr>\n",
       "    <tr>\n",
       "      <th>2010-01-07</th>\n",
       "      <td>-0.024119</td>\n",
       "      <td>-0.009693</td>\n",
       "      <td>-0.008118</td>\n",
       "      <td>-0.013482</td>\n",
       "      <td>-0.004480</td>\n",
       "    </tr>\n",
       "    <tr>\n",
       "      <th>2010-01-08</th>\n",
       "      <td>0.005860</td>\n",
       "      <td>0.012903</td>\n",
       "      <td>-0.003340</td>\n",
       "      <td>0.003984</td>\n",
       "      <td>0.002589</td>\n",
       "    </tr>\n",
       "    <tr>\n",
       "      <th>2010-01-11</th>\n",
       "      <td>0.006272</td>\n",
       "      <td>0.007274</td>\n",
       "      <td>0.012927</td>\n",
       "      <td>0.001192</td>\n",
       "      <td>0.007827</td>\n",
       "    </tr>\n",
       "  </tbody>\n",
       "</table>\n",
       "</div>"
      ],
      "text/plain": [
       "Ticker        ANZ.AX    CBA.AX    NAB.AX    WBC.AX     ^AXJO\n",
       "Date                                                        \n",
       "2010-01-05  0.004794  0.015013  0.012693  0.008266  0.009795\n",
       "2010-01-06 -0.014893  0.005014 -0.019651 -0.004715 -0.000589\n",
       "2010-01-07 -0.024119 -0.009693 -0.008118 -0.013482 -0.004480\n",
       "2010-01-08  0.005860  0.012903 -0.003340  0.003984  0.002589\n",
       "2010-01-11  0.006272  0.007274  0.012927  0.001192  0.007827"
      ]
     },
     "execution_count": 5,
     "metadata": {},
     "output_type": "execute_result"
    }
   ],
   "source": [
    "df = yf.download(stocks, start, end)\n",
    "log_returns = np.log(df.Close / df.Close.shift(1)).dropna()\n",
    "log_returns.head()"
   ]
  },
  {
   "cell_type": "markdown",
   "metadata": {
    "id": "YXsTcAULoeAS"
   },
   "source": [
    "#### Step 4a: Directly calculate beta:\n",
    "\n",
    "$\\frac{covariance(Market, Stock)}{variance(Market)}$"
   ]
  },
  {
   "cell_type": "code",
   "execution_count": 6,
   "metadata": {
    "id": "wV4qgZsAoeAS"
   },
   "outputs": [],
   "source": [
    "def calc_beta(df):\n",
    "    np_array = df.values\n",
    "    # Market index is the first column 0\n",
    "    m = np_array[:,0]\n",
    "    beta = []\n",
    "    for ind, col in enumerate(df):\n",
    "        if ind > 0:\n",
    "            # stock returns are indexed by ind\n",
    "            s = np_array[:,ind]\n",
    "            # Calculate covariance matrix between stock and market\n",
    "            covariance = np.cov(s,m)\n",
    "            beta.append( covariance[0,1]/covariance[1,1] )\n",
    "    return pd.Series(beta, df.columns[1:], name='Beta')"
   ]
  },
  {
   "cell_type": "code",
   "execution_count": 7,
   "metadata": {
    "colab": {
     "base_uri": "https://localhost:8080/"
    },
    "executionInfo": {
     "elapsed": 303,
     "status": "ok",
     "timestamp": 1644817599948,
     "user": {
      "displayName": "Jonathon Emerick",
      "photoUrl": "https://lh3.googleusercontent.com/a-/AOh14Giq9xEw4DhtJYHMD-QFk9rivPfE8jUcWMAkBjHx=s64",
      "userId": "16629380951441395759"
     },
     "user_tz": -600
    },
    "id": "yRDN03gFoeAT",
    "outputId": "0966d96e-4bd2-4f3a-f3ec-8f0e4c21a3b5"
   },
   "outputs": [
    {
     "data": {
      "text/plain": [
       "Ticker\n",
       "CBA.AX    0.691719\n",
       "NAB.AX    0.809128\n",
       "WBC.AX    0.845186\n",
       "^AXJO     0.525495\n",
       "Name: Beta, dtype: float64"
      ]
     },
     "execution_count": 7,
     "metadata": {},
     "output_type": "execute_result"
    }
   ],
   "source": [
    "calc_beta(log_returns)"
   ]
  },
  {
   "cell_type": "markdown",
   "metadata": {
    "id": "A8wPdlhToeAT"
   },
   "source": [
    "#### Step 4b: Use linear regression to get coefficient of market and stocks returns"
   ]
  },
  {
   "cell_type": "code",
   "execution_count": 8,
   "metadata": {
    "id": "3VAS2xekoeAT"
   },
   "outputs": [],
   "source": [
    "def regression_beta(df):\n",
    "    np_array = df.values\n",
    "    # Market index is the first column 0\n",
    "    m = np_array[:,0]\n",
    "    beta = []\n",
    "    for ind, col in enumerate(df):\n",
    "        if ind > 0:\n",
    "            s = np_array[:,ind] # stock returns are column one from numpy array\n",
    "            beta.append( stats.linregress(m,s)[0] )\n",
    "    return pd.Series(beta, df.columns[1:], name='Beta')"
   ]
  },
  {
   "cell_type": "code",
   "execution_count": 9,
   "metadata": {
    "colab": {
     "base_uri": "https://localhost:8080/"
    },
    "executionInfo": {
     "elapsed": 329,
     "status": "ok",
     "timestamp": 1644817605909,
     "user": {
      "displayName": "Jonathon Emerick",
      "photoUrl": "https://lh3.googleusercontent.com/a-/AOh14Giq9xEw4DhtJYHMD-QFk9rivPfE8jUcWMAkBjHx=s64",
      "userId": "16629380951441395759"
     },
     "user_tz": -600
    },
    "id": "fCWMRJIKoeAT",
    "outputId": "c3be7605-8e7e-435d-b7a1-51daac728adc"
   },
   "outputs": [
    {
     "data": {
      "text/plain": [
       "Ticker\n",
       "CBA.AX    0.691719\n",
       "NAB.AX    0.809128\n",
       "WBC.AX    0.845186\n",
       "^AXJO     0.525495\n",
       "Name: Beta, dtype: float64"
      ]
     },
     "execution_count": 9,
     "metadata": {},
     "output_type": "execute_result"
    }
   ],
   "source": [
    "regression_beta(log_returns)"
   ]
  },
  {
   "cell_type": "markdown",
   "metadata": {
    "id": "EysVhiQnoeAT"
   },
   "source": [
    "#### Step 4c: Use Matrix Algebra to complete linear regression in one line\n",
    "\n",
    "For linear regression on a model of the form y=Xβ, where X is a matrix with full column rank, the least squares solution,\n",
    "\n",
    "$\\hat{\\beta} = arg \\min ||X\\beta−y||_2 $\n",
    "\n",
    "\n",
    "$\\hat{\\beta} = (X^T X)^{−1}X^Ty $\n",
    "\n",
    "https://stats.stackexchange.com/questions/23128/solving-for-regression-parameters-in-closed-form-vs-gradient-descent/23132#23132"
   ]
  },
  {
   "cell_type": "code",
   "execution_count": 10,
   "metadata": {
    "id": "phgIri7OoeAU"
   },
   "outputs": [],
   "source": [
    "def matrix_beta(df):\n",
    "    # Market index is the first column 0\n",
    "    X = df.values[:, [0]]\n",
    "    # add an additional column for the intercept (initalise as 1's)\n",
    "    X = np.concatenate([np.ones_like(X), X], axis=1)\n",
    "    # Apply matrix algebra for linear regression model\n",
    "    beta = np.linalg.pinv(X.T @ X) @ X.T @ df.values[:, 1:]\n",
    "    return pd.Series(beta[1], df.columns[1:], name='Beta')"
   ]
  },
  {
   "cell_type": "code",
   "execution_count": 11,
   "metadata": {
    "colab": {
     "base_uri": "https://localhost:8080/"
    },
    "executionInfo": {
     "elapsed": 288,
     "status": "ok",
     "timestamp": 1644817616914,
     "user": {
      "displayName": "Jonathon Emerick",
      "photoUrl": "https://lh3.googleusercontent.com/a-/AOh14Giq9xEw4DhtJYHMD-QFk9rivPfE8jUcWMAkBjHx=s64",
      "userId": "16629380951441395759"
     },
     "user_tz": -600
    },
    "id": "3OZ7-by4oeAV",
    "outputId": "4ee2e65a-5d00-403c-cf3f-9258361dafc6"
   },
   "outputs": [
    {
     "data": {
      "text/plain": [
       "Ticker\n",
       "CBA.AX    0.691719\n",
       "NAB.AX    0.809128\n",
       "WBC.AX    0.845186\n",
       "^AXJO     0.525495\n",
       "Name: Beta, dtype: float64"
      ]
     },
     "execution_count": 11,
     "metadata": {},
     "output_type": "execute_result"
    }
   ],
   "source": [
    "beta = matrix_beta(log_returns)\n",
    "beta"
   ]
  },
  {
   "cell_type": "markdown",
   "metadata": {
    "id": "WaDsS0tooeAV"
   },
   "source": [
    "#### Step 5: Define your Portfolio and make DataFrame\n",
    "\n",
    "Calculate Beta Weighted Portfolio"
   ]
  },
  {
   "cell_type": "code",
   "execution_count": 12,
   "metadata": {
    "id": "yHyPdMoOoeAV"
   },
   "outputs": [],
   "source": [
    "units = np.array([100, 250, 300, 400, 200])\n",
    "ASXprices = df.Close[-1:].values.tolist()[0]\n",
    "price = np.array([round(price,2) for price in ASXprices[1:]])\n",
    "value = [unit*pr for unit, pr in zip(units, price)]\n",
    "weight = [round(val/sum(value),2) for val in value]\n",
    "beta = round(beta,2)"
   ]
  },
  {
   "cell_type": "markdown",
   "metadata": {
    "id": "LlEvQQv3oeAW"
   },
   "source": [
    "#### Step 6: What if we have options, let's consider things in terms of Delta"
   ]
  },
  {
   "cell_type": "code",
   "execution_count": 13,
   "metadata": {
    "colab": {
     "base_uri": "https://localhost:8080/",
     "height": 238
    },
    "executionInfo": {
     "elapsed": 290,
     "status": "ok",
     "timestamp": 1644817778303,
     "user": {
      "displayName": "Jonathon Emerick",
      "photoUrl": "https://lh3.googleusercontent.com/a-/AOh14Giq9xEw4DhtJYHMD-QFk9rivPfE8jUcWMAkBjHx=s64",
      "userId": "16629380951441395759"
     },
     "user_tz": -600
    },
    "id": "KMM-KfYdoeAW",
    "outputId": "4c61a2c2-4923-49fe-a67d-fb60d95d6d39"
   },
   "outputs": [
    {
     "ename": "NameError",
     "evalue": "name 'Portfolio' is not defined",
     "output_type": "error",
     "traceback": [
      "\u001b[0;31m---------------------------------------------------------------------------\u001b[0m",
      "\u001b[0;31mNameError\u001b[0m                                 Traceback (most recent call last)",
      "Cell \u001b[0;32mIn[13], line 1\u001b[0m\n\u001b[0;32m----> 1\u001b[0m Portfolio \u001b[38;5;241m=\u001b[39m \u001b[43mPortfolio\u001b[49m\u001b[38;5;241m.\u001b[39mdrop([\u001b[38;5;124m'\u001b[39m\u001b[38;5;124mWeight\u001b[39m\u001b[38;5;124m'\u001b[39m, \u001b[38;5;124m'\u001b[39m\u001b[38;5;124mWeighted Beta\u001b[39m\u001b[38;5;124m'\u001b[39m], axis\u001b[38;5;241m=\u001b[39m\u001b[38;5;241m1\u001b[39m)\n\u001b[1;32m      2\u001b[0m Portfolio[\u001b[38;5;124m'\u001b[39m\u001b[38;5;124mDelta\u001b[39m\u001b[38;5;124m'\u001b[39m] \u001b[38;5;241m=\u001b[39m Portfolio[\u001b[38;5;124m'\u001b[39m\u001b[38;5;124mUnits\u001b[39m\u001b[38;5;124m'\u001b[39m]\n\u001b[1;32m      3\u001b[0m Portfolio\n",
      "\u001b[0;31mNameError\u001b[0m: name 'Portfolio' is not defined"
     ]
    }
   ],
   "source": [
    "Portfolio = Portfolio.drop(['Weight', 'Weighted Beta'], axis=1)\n",
    "Portfolio['Delta'] = Portfolio['Units']\n",
    "Portfolio"
   ]
  },
  {
   "cell_type": "markdown",
   "metadata": {
    "id": "0A9R9-FqoeAX"
   },
   "source": [
    "#### Add Options to portfolio\n",
    "This is Only an example"
   ]
  },
  {
   "cell_type": "code",
   "execution_count": null,
   "metadata": {
    "id": "jP7eUqfToeAX"
   },
   "outputs": [],
   "source": [
    "Options = [{'option':'CBA0Z8', 'underlying':'CBA', 'price':3.950, 'units': 2, 'delta': 0.627, 'direction': 'Short', 'type': 'Call'},\n",
    "           {'option':'WPLQB9', 'underlying':'WPL', 'price':1.325, 'units': 2, 'delta': -0.425 ,'direction': 'Long', 'type': 'Put'}]"
   ]
  },
  {
   "cell_type": "code",
   "execution_count": null,
   "metadata": {
    "colab": {
     "base_uri": "https://localhost:8080/",
     "height": 300
    },
    "executionInfo": {
     "elapsed": 3,
     "status": "ok",
     "timestamp": 1644817796157,
     "user": {
      "displayName": "Jonathon Emerick",
      "photoUrl": "https://lh3.googleusercontent.com/a-/AOh14Giq9xEw4DhtJYHMD-QFk9rivPfE8jUcWMAkBjHx=s64",
      "userId": "16629380951441395759"
     },
     "user_tz": -600
    },
    "id": "_vO21BfAoeAX",
    "outputId": "de3c78e9-0a0f-4794-e6c0-de2f39e20270"
   },
   "outputs": [],
   "source": [
    "for index, row in enumerate(Options):\n",
    "    Portfolio.loc[row['option']] = [row['underlying'], row['direction'], row['type'], Portfolio.loc[row['underlying']+'.AX', 'Price'],\n",
    "                                    row['price'], row['units'], row['price']*row['units']*100, beta[row['underlying']+'.AX'],\n",
    "                                    (row['delta']*row['units']* 100 if row['direction'] == 'Long' else -row['delta']*row['units']*100)]\n",
    "Portfolio"
   ]
  },
  {
   "cell_type": "markdown",
   "metadata": {
    "id": "jlAPqcPXoeAX"
   },
   "source": [
    "#### Step 7: Weight the Delta's using Beta"
   ]
  },
  {
   "cell_type": "code",
   "execution_count": null,
   "metadata": {
    "colab": {
     "base_uri": "https://localhost:8080/",
     "height": 300
    },
    "executionInfo": {
     "elapsed": 340,
     "status": "ok",
     "timestamp": 1644817799117,
     "user": {
      "displayName": "Jonathon Emerick",
      "photoUrl": "https://lh3.googleusercontent.com/a-/AOh14Giq9xEw4DhtJYHMD-QFk9rivPfE8jUcWMAkBjHx=s64",
      "userId": "16629380951441395759"
     },
     "user_tz": -600
    },
    "id": "5y6feVWooeAX",
    "outputId": "b8e52217-2110-4155-f7c0-2c558fe944af"
   },
   "outputs": [],
   "source": [
    "Portfolio['ASX200 Weighted Delta (point)'] = round(Portfolio['Beta'] * (Portfolio['Stock Price']/ASXprices[0]) * Portfolio['Delta'],2)\n",
    "Portfolio['ASX200 Weighted Delta (1%)'] = round(Portfolio['Beta'] * (Portfolio['Stock Price']) * Portfolio['Delta'] * 0.01,2)\n",
    "Portfolio"
   ]
  },
  {
   "cell_type": "markdown",
   "metadata": {
    "id": "wo2IFgvOoeAX"
   },
   "source": [
    "#### Step 8: Total the Delta's to get Portfolio Overview"
   ]
  },
  {
   "cell_type": "code",
   "execution_count": null,
   "metadata": {
    "colab": {
     "base_uri": "https://localhost:8080/",
     "height": 332
    },
    "executionInfo": {
     "elapsed": 5,
     "status": "ok",
     "timestamp": 1644817801534,
     "user": {
      "displayName": "Jonathon Emerick",
      "photoUrl": "https://lh3.googleusercontent.com/a-/AOh14Giq9xEw4DhtJYHMD-QFk9rivPfE8jUcWMAkBjHx=s64",
      "userId": "16629380951441395759"
     },
     "user_tz": -600
    },
    "id": "v28zXKcooeAY",
    "outputId": "81db834c-3360-4f53-fc5a-7b65e3a75d61"
   },
   "outputs": [],
   "source": [
    "Portfolio.loc['Total', ['Value', 'ASX200 Weighted Delta (point)', 'ASX200 Weighted Delta (1%)']] \\\n",
    "= Portfolio[['Value','ASX200 Weighted Delta (point)', 'ASX200 Weighted Delta (1%)']].sum()\n",
    "Portfolio"
   ]
  }
 ],
 "metadata": {
  "colab": {
   "provenance": [],
   "toc_visible": true
  },
  "kernelspec": {
   "display_name": "Python 3 (ipykernel)",
   "language": "python",
   "name": "python3"
  },
  "language_info": {
   "codemirror_mode": {
    "name": "ipython",
    "version": 3
   },
   "file_extension": ".py",
   "mimetype": "text/x-python",
   "name": "python",
   "nbconvert_exporter": "python",
   "pygments_lexer": "ipython3",
   "version": "3.11.6"
  },
  "widgets": {
   "application/vnd.jupyter.widget-state+json": {
    "state": {},
    "version_major": 2,
    "version_minor": 0
   }
  }
 },
 "nbformat": 4,
 "nbformat_minor": 4
}
